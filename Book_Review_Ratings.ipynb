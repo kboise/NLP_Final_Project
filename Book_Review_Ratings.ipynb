{
 "cells": [
  {
   "cell_type": "markdown",
   "metadata": {},
   "source": [
    "# Import Stuff"
   ]
  },
  {
   "cell_type": "code",
   "execution_count": 69,
   "metadata": {
    "collapsed": true
   },
   "outputs": [],
   "source": [
    "import pandas as pd\n",
    "import json\n",
    "from nltk.classify.naivebayes import NaiveBayesClassifier\n",
    "import nltk\n",
    "import collections as c\n",
    "from nltk.stem.porter import *\n",
    "\n",
    "stemmer = PorterStemmer()"
   ]
  },
  {
   "cell_type": "code",
   "execution_count": 5,
   "metadata": {
    "collapsed": false,
    "scrolled": true
   },
   "outputs": [],
   "source": [
    "reviews = []\n",
    "for line in open('data/part1.json', 'r'):\n",
    "    reviews.append(json.loads(line))"
   ]
  },
  {
   "cell_type": "code",
   "execution_count": 6,
   "metadata": {
    "collapsed": false
   },
   "outputs": [
    {
     "data": {
      "text/plain": [
       "[{'asin': '000100039X',\n",
       "  'helpful': [0, 0],\n",
       "  'overall': 5.0,\n",
       "  'reviewText': 'Spiritually and mentally inspiring! A book that allows you to question your morals and will help you discover who you really are!',\n",
       "  'reviewTime': '12 16, 2012',\n",
       "  'reviewerID': 'A10000012B7CGYKOMPQ4L',\n",
       "  'reviewerName': 'Adam',\n",
       "  'summary': 'Wonderful!',\n",
       "  'unixReviewTime': 1355616000}]"
      ]
     },
     "execution_count": 6,
     "metadata": {},
     "output_type": "execute_result"
    }
   ],
   "source": [
    "reviews[:1]"
   ]
  },
  {
   "cell_type": "code",
   "execution_count": 7,
   "metadata": {
    "collapsed": false,
    "scrolled": true
   },
   "outputs": [
    {
     "data": {
      "text/html": [
       "<div>\n",
       "<table border=\"1\" class=\"dataframe\">\n",
       "  <thead>\n",
       "    <tr style=\"text-align: right;\">\n",
       "      <th></th>\n",
       "      <th>overall</th>\n",
       "      <th>summary</th>\n",
       "      <th>reviewText</th>\n",
       "    </tr>\n",
       "  </thead>\n",
       "  <tbody>\n",
       "    <tr>\n",
       "      <th>0</th>\n",
       "      <td>5.0</td>\n",
       "      <td>Wonderful!</td>\n",
       "      <td>Spiritually and mentally inspiring! A book tha...</td>\n",
       "    </tr>\n",
       "    <tr>\n",
       "      <th>1</th>\n",
       "      <td>5.0</td>\n",
       "      <td>close to god</td>\n",
       "      <td>This is one my must have books. It is a master...</td>\n",
       "    </tr>\n",
       "    <tr>\n",
       "      <th>2</th>\n",
       "      <td>5.0</td>\n",
       "      <td>Must Read for Life Afficianados</td>\n",
       "      <td>This book provides a reflection that you can a...</td>\n",
       "    </tr>\n",
       "    <tr>\n",
       "      <th>3</th>\n",
       "      <td>5.0</td>\n",
       "      <td>Timeless for every good and bad time in your l...</td>\n",
       "      <td>I first read THE PROPHET in college back in th...</td>\n",
       "    </tr>\n",
       "    <tr>\n",
       "      <th>4</th>\n",
       "      <td>5.0</td>\n",
       "      <td>A Modern Rumi</td>\n",
       "      <td>A timeless classic.  It is a very demanding an...</td>\n",
       "    </tr>\n",
       "    <tr>\n",
       "      <th>5</th>\n",
       "      <td>5.0</td>\n",
       "      <td>This book will bring you peace</td>\n",
       "      <td>Reading this made my mind feel like a still po...</td>\n",
       "    </tr>\n",
       "    <tr>\n",
       "      <th>6</th>\n",
       "      <td>5.0</td>\n",
       "      <td>Graet Work</td>\n",
       "      <td>As you read, Gibran's poetry brings spiritual ...</td>\n",
       "    </tr>\n",
       "    <tr>\n",
       "      <th>7</th>\n",
       "      <td>5.0</td>\n",
       "      <td>Such Beauty</td>\n",
       "      <td>Deep, moving dramatic verses of the heart and ...</td>\n",
       "    </tr>\n",
       "    <tr>\n",
       "      <th>8</th>\n",
       "      <td>5.0</td>\n",
       "      <td>The Prophet</td>\n",
       "      <td>This is a timeless classic.  Over the years I'...</td>\n",
       "    </tr>\n",
       "    <tr>\n",
       "      <th>9</th>\n",
       "      <td>5.0</td>\n",
       "      <td>A Modern Classic</td>\n",
       "      <td>An amazing work. Realizing extensive use of Bi...</td>\n",
       "    </tr>\n",
       "  </tbody>\n",
       "</table>\n",
       "</div>"
      ],
      "text/plain": [
       "  overall                                            summary  \\\n",
       "0     5.0                                         Wonderful!   \n",
       "1     5.0                                       close to god   \n",
       "2     5.0                    Must Read for Life Afficianados   \n",
       "3     5.0  Timeless for every good and bad time in your l...   \n",
       "4     5.0                                      A Modern Rumi   \n",
       "5     5.0                     This book will bring you peace   \n",
       "6     5.0                                         Graet Work   \n",
       "7     5.0                                        Such Beauty   \n",
       "8     5.0                                        The Prophet   \n",
       "9     5.0                                   A Modern Classic   \n",
       "\n",
       "                                          reviewText  \n",
       "0  Spiritually and mentally inspiring! A book tha...  \n",
       "1  This is one my must have books. It is a master...  \n",
       "2  This book provides a reflection that you can a...  \n",
       "3  I first read THE PROPHET in college back in th...  \n",
       "4  A timeless classic.  It is a very demanding an...  \n",
       "5  Reading this made my mind feel like a still po...  \n",
       "6  As you read, Gibran's poetry brings spiritual ...  \n",
       "7  Deep, moving dramatic verses of the heart and ...  \n",
       "8  This is a timeless classic.  Over the years I'...  \n",
       "9  An amazing work. Realizing extensive use of Bi...  "
      ]
     },
     "execution_count": 7,
     "metadata": {},
     "output_type": "execute_result"
    }
   ],
   "source": [
    "df  = pd.DataFrame(reviews)\n",
    "df = df[['overall', 'summary', 'reviewText']].copy()\n",
    "df['overall'] = df['overall'].astype(str)\n",
    "df[:10]"
   ]
  },
  {
   "cell_type": "markdown",
   "metadata": {},
   "source": [
    "## Split to train and test"
   ]
  },
  {
   "cell_type": "code",
   "execution_count": 8,
   "metadata": {
    "collapsed": false
   },
   "outputs": [],
   "source": [
    "train = df.sample(frac=0.8, random_state=200)\n",
    "test = df.drop(train.index)"
   ]
  },
  {
   "cell_type": "markdown",
   "metadata": {},
   "source": [
    "## Convert numeric rating to word rating (5.0 -> \"Five\")"
   ]
  },
  {
   "cell_type": "code",
   "execution_count": 9,
   "metadata": {
    "collapsed": false,
    "scrolled": true
   },
   "outputs": [
    {
     "data": {
      "text/html": [
       "<div>\n",
       "<table border=\"1\" class=\"dataframe\">\n",
       "  <thead>\n",
       "    <tr style=\"text-align: right;\">\n",
       "      <th></th>\n",
       "      <th>overall</th>\n",
       "      <th>summary</th>\n",
       "      <th>reviewText</th>\n",
       "    </tr>\n",
       "  </thead>\n",
       "  <tbody>\n",
       "    <tr>\n",
       "      <th>71488</th>\n",
       "      <td>Five</td>\n",
       "      <td>Read it even if you don't think you'd be inter...</td>\n",
       "      <td>A sledgehammer of a book.  Well-written, compa...</td>\n",
       "    </tr>\n",
       "    <tr>\n",
       "      <th>18462</th>\n",
       "      <td>Five</td>\n",
       "      <td>I Am 16/f and I loved this book!</td>\n",
       "      <td>HI! aLRIGHT, LET ME GIVE IT STRAIGHT HAHA I re...</td>\n",
       "    </tr>\n",
       "    <tr>\n",
       "      <th>5190</th>\n",
       "      <td>Five</td>\n",
       "      <td>ah.. have to wait for 2 more sequals!</td>\n",
       "      <td>love this book too. arya's new found skills. d...</td>\n",
       "    </tr>\n",
       "    <tr>\n",
       "      <th>49745</th>\n",
       "      <td>Five</td>\n",
       "      <td>A fabulous book of recipes!</td>\n",
       "      <td>This book is a great product.  Lots of informa...</td>\n",
       "    </tr>\n",
       "    <tr>\n",
       "      <th>51643</th>\n",
       "      <td>Four</td>\n",
       "      <td>Well done, good research</td>\n",
       "      <td>If you're looking into things like Angels, occ...</td>\n",
       "    </tr>\n",
       "  </tbody>\n",
       "</table>\n",
       "</div>"
      ],
      "text/plain": [
       "      overall                                            summary  \\\n",
       "71488    Five  Read it even if you don't think you'd be inter...   \n",
       "18462    Five                   I Am 16/f and I loved this book!   \n",
       "5190     Five              ah.. have to wait for 2 more sequals!   \n",
       "49745    Five                        A fabulous book of recipes!   \n",
       "51643    Four                           Well done, good research   \n",
       "\n",
       "                                              reviewText  \n",
       "71488  A sledgehammer of a book.  Well-written, compa...  \n",
       "18462  HI! aLRIGHT, LET ME GIVE IT STRAIGHT HAHA I re...  \n",
       "5190   love this book too. arya's new found skills. d...  \n",
       "49745  This book is a great product.  Lots of informa...  \n",
       "51643  If you're looking into things like Angels, occ...  "
      ]
     },
     "execution_count": 9,
     "metadata": {},
     "output_type": "execute_result"
    }
   ],
   "source": [
    "def convert_numeric_to_word(temp_df):\n",
    "    for index, row in temp_df.iterrows():\n",
    "        rating = \"Five\"\n",
    "        if row['overall'] == \"1.0\":\n",
    "            rating = \"One\"\n",
    "        elif row['overall'] == \"2.0\":\n",
    "            rating = \"Two\"\n",
    "        elif row['overall'] == \"3.0\":\n",
    "            rating = \"Three\"\n",
    "        elif row['overall'] == \"4.0\":\n",
    "            rating = \"Four\"\n",
    "        else:\n",
    "            rating = \"Five\"\n",
    "        temp_df.set_value(index, 'overall', rating)\n",
    "    return temp_df\n",
    "        \n",
    "train = convert_numeric_to_word(train)\n",
    "test = convert_numeric_to_word(test)\n",
    "train[:5]"
   ]
  },
  {
   "cell_type": "code",
   "execution_count": 10,
   "metadata": {
    "collapsed": false,
    "scrolled": false
   },
   "outputs": [
    {
     "data": {
      "text/html": [
       "<div>\n",
       "<table border=\"1\" class=\"dataframe\">\n",
       "  <thead>\n",
       "    <tr style=\"text-align: right;\">\n",
       "      <th></th>\n",
       "      <th>overall</th>\n",
       "      <th>summary</th>\n",
       "      <th>reviewText</th>\n",
       "    </tr>\n",
       "  </thead>\n",
       "  <tbody>\n",
       "    <tr>\n",
       "      <th>3</th>\n",
       "      <td>Five</td>\n",
       "      <td>Timeless for every good and bad time in your l...</td>\n",
       "      <td>I first read THE PROPHET in college back in th...</td>\n",
       "    </tr>\n",
       "    <tr>\n",
       "      <th>4</th>\n",
       "      <td>Five</td>\n",
       "      <td>A Modern Rumi</td>\n",
       "      <td>A timeless classic.  It is a very demanding an...</td>\n",
       "    </tr>\n",
       "    <tr>\n",
       "      <th>14</th>\n",
       "      <td>Five</td>\n",
       "      <td>A book everyone &amp;#34;should&amp;#34; read</td>\n",
       "      <td>I discovered The Prophet fifty years ago in co...</td>\n",
       "    </tr>\n",
       "    <tr>\n",
       "      <th>17</th>\n",
       "      <td>Five</td>\n",
       "      <td>Flawless</td>\n",
       "      <td>Anything I've read by Gibran is, in my mind, f...</td>\n",
       "    </tr>\n",
       "    <tr>\n",
       "      <th>23</th>\n",
       "      <td>Two</td>\n",
       "      <td>Eloquent</td>\n",
       "      <td>I read this about a year ago and can't recall ...</td>\n",
       "    </tr>\n",
       "  </tbody>\n",
       "</table>\n",
       "</div>"
      ],
      "text/plain": [
       "   overall                                            summary  \\\n",
       "3     Five  Timeless for every good and bad time in your l...   \n",
       "4     Five                                      A Modern Rumi   \n",
       "14    Five              A book everyone &#34;should&#34; read   \n",
       "17    Five                                           Flawless   \n",
       "23     Two                                           Eloquent   \n",
       "\n",
       "                                           reviewText  \n",
       "3   I first read THE PROPHET in college back in th...  \n",
       "4   A timeless classic.  It is a very demanding an...  \n",
       "14  I discovered The Prophet fifty years ago in co...  \n",
       "17  Anything I've read by Gibran is, in my mind, f...  \n",
       "23  I read this about a year ago and can't recall ...  "
      ]
     },
     "execution_count": 10,
     "metadata": {},
     "output_type": "execute_result"
    }
   ],
   "source": [
    "test[:5]"
   ]
  },
  {
   "cell_type": "markdown",
   "metadata": {},
   "source": [
    "## Build baseline with no input processing"
   ]
  },
  {
   "cell_type": "code",
   "execution_count": 11,
   "metadata": {
    "collapsed": false
   },
   "outputs": [],
   "source": [
    "def build_baseline_feature(temp_df):\n",
    "    temp_df['feats'] = temp_df['reviewText'].map(lambda x: c.Counter(x.split(\" \")))\n",
    "    return list(zip(temp_df['feats'], temp_df['overall']))\n",
    "\n",
    "train_data = build_baseline_feature(train)\n",
    "test_data = build_baseline_feature(test)"
   ]
  },
  {
   "cell_type": "code",
   "execution_count": 13,
   "metadata": {
    "collapsed": true
   },
   "outputs": [],
   "source": [
    "classifier = NaiveBayesClassifier.train(train_data)"
   ]
  },
  {
   "cell_type": "code",
   "execution_count": 14,
   "metadata": {
    "collapsed": false,
    "scrolled": false
   },
   "outputs": [
    {
     "data": {
      "text/plain": [
       "0.20905"
      ]
     },
     "execution_count": 14,
     "metadata": {},
     "output_type": "execute_result"
    }
   ],
   "source": [
    "nltk.classify.util.accuracy(classifier, test_data)"
   ]
  },
  {
   "cell_type": "code",
   "execution_count": 15,
   "metadata": {
    "collapsed": false
   },
   "outputs": [
    {
     "data": {
      "text/plain": [
       "'Five'"
      ]
     },
     "execution_count": 15,
     "metadata": {},
     "output_type": "execute_result"
    }
   ],
   "source": [
    "classifier.classify({\"what\": 1, \"a\": 1, \"wonderful\": 1, \"book\": 1})"
   ]
  },
  {
   "cell_type": "code",
   "execution_count": 68,
   "metadata": {
    "collapsed": false
   },
   "outputs": [
    {
     "data": {
      "text/plain": [
       "'Two'"
      ]
     },
     "execution_count": 68,
     "metadata": {},
     "output_type": "execute_result"
    }
   ],
   "source": [
    "classifier.classify({\"Not\": 1, \"useless\": 1, \"reading\": 1, \"very\": 1, \"bad\": 1, \"don't\": 2, \"read\": 1})"
   ]
  },
  {
   "cell_type": "markdown",
   "metadata": {},
   "source": [
    "## Improve baseline with some text processing (lowercase, remove punctuation)"
   ]
  },
  {
   "cell_type": "code",
   "execution_count": 38,
   "metadata": {
    "collapsed": false
   },
   "outputs": [],
   "source": [
    "def build_improved_baseline_feature(temp_df):\n",
    "    temp_df['feats'] = temp_df['reviewText'].map(lambda x: c.Counter(list(filter(None, re.sub(\"[^a-zA-Z]\", \" \", x).lower().split(\" \")))))\n",
    "    return list(zip(temp_df['feats'], temp_df['overall']))\n",
    "\n",
    "train_data = build_improved_baseline_feature(train)\n",
    "test_data = build_improved_baseline_feature(test)"
   ]
  },
  {
   "cell_type": "code",
   "execution_count": 39,
   "metadata": {
    "collapsed": true
   },
   "outputs": [],
   "source": [
    "classifier = NaiveBayesClassifier.train(train_data)"
   ]
  },
  {
   "cell_type": "code",
   "execution_count": 40,
   "metadata": {
    "collapsed": false
   },
   "outputs": [
    {
     "data": {
      "text/plain": [
       "0.23915"
      ]
     },
     "execution_count": 40,
     "metadata": {},
     "output_type": "execute_result"
    }
   ],
   "source": [
    "nltk.classify.util.accuracy(classifier, test_data)"
   ]
  },
  {
   "cell_type": "code",
   "execution_count": 48,
   "metadata": {
    "collapsed": false
   },
   "outputs": [
    {
     "data": {
      "text/plain": [
       "'Five'"
      ]
     },
     "execution_count": 48,
     "metadata": {},
     "output_type": "execute_result"
    }
   ],
   "source": [
    "classifier.classify({\"what\": 1, \"a\": 1, \"wonderful\": 1, \"book\": 1})"
   ]
  },
  {
   "cell_type": "code",
   "execution_count": 65,
   "metadata": {
    "collapsed": false,
    "scrolled": true
   },
   "outputs": [
    {
     "data": {
      "text/plain": [
       "'Two'"
      ]
     },
     "execution_count": 65,
     "metadata": {},
     "output_type": "execute_result"
    }
   ],
   "source": [
    "classifier.classify({\"Not\": 1, \"useless\": 1, \"reading\": 1, \"very\": 1, \"bad\": 1, \"don't\": 1, \"read\": 1})"
   ]
  },
  {
   "cell_type": "markdown",
   "metadata": {},
   "source": [
    "## Improve baseline with more input processing (stemming)"
   ]
  },
  {
   "cell_type": "code",
   "execution_count": 72,
   "metadata": {
    "collapsed": true
   },
   "outputs": [],
   "source": [
    "def build_more_improved_baseline_feature(temp_df):\n",
    "    temp_df['feats'] = temp_df['reviewText'].map(lambda x: c.Counter([stemmer.stem(word) for word in list(filter(None, re.sub(\"[^a-zA-Z]\", \" \", x).lower().split(\" \")))]))\n",
    "    return list(zip(temp_df['feats'], temp_df['overall']))\n",
    "\n",
    "train_data = build_more_improved_baseline_feature(train)\n",
    "test_data = build_more_improved_baseline_feature(test)"
   ]
  },
  {
   "cell_type": "code",
   "execution_count": 74,
   "metadata": {
    "collapsed": true
   },
   "outputs": [],
   "source": [
    "classifier = NaiveBayesClassifier.train(train_data)"
   ]
  },
  {
   "cell_type": "code",
   "execution_count": 75,
   "metadata": {
    "collapsed": false
   },
   "outputs": [
    {
     "data": {
      "text/plain": [
       "0.239"
      ]
     },
     "execution_count": 75,
     "metadata": {},
     "output_type": "execute_result"
    }
   ],
   "source": [
    "nltk.classify.util.accuracy(classifier, test_data)"
   ]
  },
  {
   "cell_type": "code",
   "execution_count": 76,
   "metadata": {
    "collapsed": false
   },
   "outputs": [
    {
     "data": {
      "text/plain": [
       "'Five'"
      ]
     },
     "execution_count": 76,
     "metadata": {},
     "output_type": "execute_result"
    }
   ],
   "source": [
    "classifier.classify({\"what\": 1, \"a\": 1, \"wonderful\": 1, \"book\": 1})"
   ]
  },
  {
   "cell_type": "code",
   "execution_count": 82,
   "metadata": {
    "collapsed": false
   },
   "outputs": [
    {
     "data": {
      "text/plain": [
       "'One'"
      ]
     },
     "execution_count": 82,
     "metadata": {},
     "output_type": "execute_result"
    }
   ],
   "source": [
    "classifier.classify({\"Not\": 1, \"useless\": 1, \"reading\": 1, \"very\": 1, \"bad\": 1, \"don't\": 1, \"read\": 1})"
   ]
  }
 ],
 "metadata": {
  "kernelspec": {
   "display_name": "Python [default]",
   "language": "python",
   "name": "python3"
  },
  "language_info": {
   "codemirror_mode": {
    "name": "ipython",
    "version": 3
   },
   "file_extension": ".py",
   "mimetype": "text/x-python",
   "name": "python",
   "nbconvert_exporter": "python",
   "pygments_lexer": "ipython3",
   "version": "3.5.2"
  }
 },
 "nbformat": 4,
 "nbformat_minor": 0
}
